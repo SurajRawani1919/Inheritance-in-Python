{
 "cells": [
  {
   "cell_type": "code",
   "execution_count": 4,
   "id": "7514a5fa-9369-41a1-b5a8-3cf61b21d03c",
   "metadata": {},
   "outputs": [
    {
     "name": "stdout",
     "output_type": "stream",
     "text": [
      "daisy\n",
      "2\n"
     ]
    }
   ],
   "source": [
    "#class and object \n",
    "\n",
    "class dog:\n",
    "    def __init__(self, name, age):\n",
    "        self.name=name\n",
    "        self.age=age\n",
    "        \n",
    "    def bark(self):\n",
    "        return 'woof!'\n",
    "        \n",
    "    def describe(self):\n",
    "        return f'{self.name} is {self.age} years old'\n",
    "\n",
    "\n",
    "#dog----class\n",
    "#__init__----constructor that initilaize the attributes\n",
    "#bark---method\n",
    "#describe---method2\n",
    "#self---allows access to my attributes\n",
    "#name,age -----attributes\n",
    "\n",
    "my_dog=dog(name=\"daisy\",age=2)    #instantiation----creating an object\n",
    "\n",
    "#calling the attributes and method inside the class\n",
    "#attributes\n",
    "print(my_dog.name)\n",
    "print(my_dog.age)"
   ]
  },
  {
   "cell_type": "code",
   "execution_count": 5,
   "id": "57e23863-aa9b-44ff-9d5c-bf0c1fc1ecd8",
   "metadata": {},
   "outputs": [
    {
     "name": "stdout",
     "output_type": "stream",
     "text": [
      "woof!\n",
      "daisy is 2 years old\n"
     ]
    }
   ],
   "source": [
    "#method\n",
    "print(my_dog.bark())\n",
    "print(my_dog.describe())"
   ]
  },
  {
   "cell_type": "code",
   "execution_count": 9,
   "id": "900143f5-e499-4d8f-8d93-e2710a9bd629",
   "metadata": {},
   "outputs": [
    {
     "name": "stdout",
     "output_type": "stream",
     "text": [
      "daisy\n",
      "Grey\n",
      "Animal\n",
      "Meow\n"
     ]
    }
   ],
   "source": [
    "#inheritance: it allows us to inherit the attributes and methods from another class\n",
    "\n",
    "class Animal:\n",
    "    def __init__(self,name):\n",
    "        self.name=name\n",
    "        \n",
    "    def speak(self):\n",
    "        return \"Animal\"\n",
    "\n",
    "class Cat(Animal):\n",
    "    def __init__(self,name,color):\n",
    "        super().__init__(name)\n",
    "        self.color=color\n",
    "        \n",
    "    def meow(self):\n",
    "        return \"Meow\"\n",
    "\n",
    "my_cat=Cat(\"daisy\",\"Grey\")\n",
    "print(my_cat.name)\n",
    "print(my_cat.color)\n",
    "print(my_cat.speak())\n",
    "print(my_cat.meow())\n",
    "\n",
    "#cat inherit Animal class\n",
    "#inhetits or takes the method or attributes of Animal class"
   ]
  },
  {
   "cell_type": "code",
   "execution_count": 17,
   "id": "9baa51c1-434a-4fd6-9a90-ed79345e5c62",
   "metadata": {},
   "outputs": [
    {
     "name": "stdout",
     "output_type": "stream",
     "text": [
      "Father's Name: Ram, Age: 50\n",
      "Son's Name: Shyam, Age: 20\n",
      "Ram\n",
      "50\n",
      "Shyam\n",
      "20\n"
     ]
    }
   ],
   "source": [
    "class Father:\n",
    "    def __init__(self, name, age):\n",
    "        self.name = name\n",
    "        self.age = age\n",
    "\n",
    "    def display(self):\n",
    "        return (f\"Father's Name: {self.name}, Age: {self.age}\")\n",
    "\n",
    "class Son(Father):\n",
    "    def __init__(self, name, age):\n",
    "        super().__init__(name, age)\n",
    "\n",
    "    def display(self):\n",
    "        return (f\"Son's Name: {self.name}, Age: {self.age}\")\n",
    "        \n",
    "father = Father(\"Ram\", 50)\n",
    "son = Son(\"Shyam\", 20)\n",
    "\n",
    "\n",
    "print(father.display())\n",
    "print(son.display())\n",
    "print(father.name)\n",
    "print(father.age)\n",
    "print(son.name)\n",
    "print(son.age)\n",
    "\n",
    "        "
   ]
  },
  {
   "cell_type": "code",
   "execution_count": null,
   "id": "9a430e7c-c53e-4cc6-92ce-22a120724808",
   "metadata": {},
   "outputs": [],
   "source": []
  }
 ],
 "metadata": {
  "kernelspec": {
   "display_name": "Python 3 (ipykernel)",
   "language": "python",
   "name": "python3"
  },
  "language_info": {
   "codemirror_mode": {
    "name": "ipython",
    "version": 3
   },
   "file_extension": ".py",
   "mimetype": "text/x-python",
   "name": "python",
   "nbconvert_exporter": "python",
   "pygments_lexer": "ipython3",
   "version": "3.10.11"
  }
 },
 "nbformat": 4,
 "nbformat_minor": 5
}
